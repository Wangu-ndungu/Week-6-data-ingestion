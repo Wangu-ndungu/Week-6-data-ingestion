{
 "cells": [
  {
   "cell_type": "code",
   "execution_count": 1,
   "id": "d193e121",
   "metadata": {},
   "outputs": [],
   "source": [
    "import pandas as pd\n",
    "import numpy as np\n",
    "import time\n",
    "import yaml"
   ]
  },
  {
   "cell_type": "code",
   "execution_count": 2,
   "id": "d44c5377",
   "metadata": {},
   "outputs": [],
   "source": [
    "# Reading the data using pandas\n",
    "s = time.time()\n",
    "df = pd.read_csv(\"C:/Users/user/Downloads/archive2/Reliance Trends Fashion.csv\")\n",
    "e = time.time()"
   ]
  },
  {
   "cell_type": "code",
   "execution_count": 3,
   "id": "d9acfa8b",
   "metadata": {},
   "outputs": [],
   "source": [
    "# Reading the file using dask\n",
    "import dask.dataframe as dd"
   ]
  },
  {
   "cell_type": "code",
   "execution_count": 4,
   "id": "247f2f95",
   "metadata": {},
   "outputs": [],
   "source": [
    "s2 = time.time()\n",
    "df2 = dd.read_csv(\"C:/Users/user/Downloads/archive2/Reliance Trends Fashion.csv\")\n",
    "e2 = time.time()"
   ]
  },
  {
   "cell_type": "code",
   "execution_count": 9,
   "id": "04fea77a",
   "metadata": {},
   "outputs": [],
   "source": [
    "# Redaing the file using modin\n",
    "import modin.pandas as md\n",
    "import ray\n"
   ]
  },
  {
   "cell_type": "code",
   "execution_count": 7,
   "id": "26485c9d",
   "metadata": {},
   "outputs": [
    {
     "name": "stderr",
     "output_type": "stream",
     "text": [
      "UserWarning: Ray execution environment not yet initialized. Initializing...\n",
      "To remove this warning, run the following python code before doing dataframe operations:\n",
      "\n",
      "    import ray\n",
      "    ray.init()\n",
      "\n"
     ]
    }
   ],
   "source": [
    "s3 = time.time()\n",
    "df3 = md.read_csv(\"C:/Users/user/Downloads/archive2/Reliance Trends Fashion.csv\")\n",
    "e3 = time.time()"
   ]
  },
  {
   "cell_type": "code",
   "execution_count": 10,
   "id": "3f2bcfb0",
   "metadata": {},
   "outputs": [
    {
     "name": "stdout",
     "output_type": "stream",
     "text": [
      "Pandas Loading Time = 0.26799869537353516\n",
      "Dask Loading Time = 0.03477215766906738\n",
      "Modin Loading Time = 11.998594522476196\n"
     ]
    }
   ],
   "source": [
    "# comparing their speeds\n",
    "print(\"Pandas Loading Time = {}\".format(e-s))\n",
    "print(\"Dask Loading Time = {}\".format(e2-s2))\n",
    "print(\"Modin Loading Time = {}\".format(e3-s3))"
   ]
  },
  {
   "cell_type": "code",
   "execution_count": 11,
   "id": "9d550f02",
   "metadata": {},
   "outputs": [
    {
     "name": "stdout",
     "output_type": "stream",
     "text": [
      "Index(['Brand', 'Description', 'Image_URL', 'Product_ID',\n",
      "       'Discount_Price (in Rs.)', 'Original_Price (in Rs.)', 'Product_URL',\n",
      "       'Category_by_gender', 'Category'],\n",
      "      dtype='object')\n"
     ]
    }
   ],
   "source": [
    "# displaying all columns\n",
    "print(df.columns)"
   ]
  },
  {
   "cell_type": "markdown",
   "id": "8de087f2",
   "metadata": {},
   "source": [
    "### Writing the yaml file\n",
    "\n"
   ]
  },
  {
   "cell_type": "code",
   "execution_count": 12,
   "id": "bd04a942",
   "metadata": {},
   "outputs": [
    {
     "name": "stdout",
     "output_type": "stream",
     "text": [
      "Overwriting file.yaml\n"
     ]
    }
   ],
   "source": [
    "%%writefile file.yaml\n",
    "file_type: csv\n",
    "dataset_name: reliancefile\n",
    "file_name: Reliance Trends Fashion\n",
    "table_name: reliancetrends\n",
    "inbound_delimiter: \",\"\n",
    "outbound_delimiter: \"|\"\n",
    "skip_leading_rows: 1\n",
    "columns:\n",
    "    - brand\n",
    "    - description\n",
    "    - imageurl\n",
    "    - productid\n",
    "    - discountprice(inrs.)\n",
    "    - originalprice(inrs.)\n",
    "    - producturl\n",
    "    - categorybygender\n",
    "    - category\n",
    "   "
   ]
  },
  {
   "cell_type": "markdown",
   "id": "df92c664-f4f2-4161-b83a-07d854d29814",
   "metadata": {},
   "source": [
    "#### Writing the test utility file"
   ]
  },
  {
   "cell_type": "code",
   "execution_count": 14,
   "id": "5b20c213-45f7-46c8-9498-0af8dd7e91fd",
   "metadata": {},
   "outputs": [
    {
     "name": "stdout",
     "output_type": "stream",
     "text": [
      "Writing fashiontrendstutility.py\n"
     ]
    }
   ],
   "source": [
    "%%writefile fashiontrendstutility.py\n",
    "import logging\n",
    "import os\n",
    "import subprocess\n",
    "import yaml\n",
    "import pandas as pd\n",
    "import datetime \n",
    "import gc\n",
    "import re\n",
    "\n",
    "\n",
    "################\n",
    "# File Reading #\n",
    "################\n",
    "\n",
    "def read_config_file(filepath):\n",
    "    with open(filepath, 'r') as stream:\n",
    "        try:\n",
    "            return yaml.safe_load(stream)\n",
    "        except yaml.YAMLError as exc:\n",
    "            logging.error(exc)\n",
    "\n",
    "\n",
    "def replacer(string, char):\n",
    "    pattern = char + '{2,}'\n",
    "    string = re.sub(pattern, char, string) \n",
    "    return string\n",
    "\n",
    "def col_header_val(df,config_data):\n",
    "    '''\n",
    "    replace whitespaces in the column\n",
    "    and standardized column names\n",
    "    '''\n",
    "    df.columns = df.columns.str.lower()\n",
    "    df.columns=df.columns.str.replace('[#,@,&,_, ]','')\n",
    "    expected_col = list(config_data['columns'])\n",
    "    expected_col.sort()\n",
    "    df.columns =list(map lambda x: (x.lower(), list(df.columns)))\n",
    "    df = df.reindex(sorted(df.columns), axis=1)\n",
    "    \n",
    "    if len(df.columns) == len(expected_col) and list(expected_col)  == list(df.columns):\n",
    "        print(\"column name and column length validation passed\")\n",
    "        return 1\n",
    "    else:\n",
    "        print(\"column name and column length validation failed\")\n",
    "        mismatched_columns_file = list(set(df.columns).difference(expected_col))\n",
    "        print(\"Following File columns are not in the YAML file\",mismatched_columns_file)\n",
    "        missing_YAML_file = list(set(expected_col).difference(df.columns))\n",
    "        print(\"Following YAML columns are not in the file uploaded\",missing_YAML_file)\n",
    "        logging.info(f'df columns: {df.columns}')\n",
    "        logging.info(f'expected columns: {expected_col}')\n",
    "        return 0"
   ]
  },
  {
   "cell_type": "markdown",
   "id": "6e74f942-af47-499a-8757-67ce0ee93d1b",
   "metadata": {},
   "source": [
    "###  Read config file"
   ]
  },
  {
   "cell_type": "code",
   "execution_count": 15,
   "id": "7edf9924",
   "metadata": {},
   "outputs": [],
   "source": [
    "# Read config file\n",
    "import fashiontrendsutility as util\n",
    "config_data = util.read_config_file(\"file.yaml\")"
   ]
  },
  {
   "cell_type": "code",
   "execution_count": 16,
   "id": "5b84da58",
   "metadata": {},
   "outputs": [
    {
     "data": {
      "text/plain": [
       "{'file_type': 'csv',\n",
       " 'dataset_name': 'reliancefile',\n",
       " 'file_name': 'Reliance Trends Fashion',\n",
       " 'table_name': 'reliancetrends',\n",
       " 'inbound_delimiter': ',',\n",
       " 'outbound_delimiter': '|',\n",
       " 'skip_leading_rows': 1,\n",
       " 'columns': ['brand',\n",
       "  'description',\n",
       "  'imageurl',\n",
       "  'productid',\n",
       "  'discountprice(inrs.)',\n",
       "  'originalprice(inrs.)',\n",
       "  'producturl',\n",
       "  'categorybygender',\n",
       "  'category']}"
      ]
     },
     "execution_count": 16,
     "metadata": {},
     "output_type": "execute_result"
    }
   ],
   "source": [
    "# inspecting the config file\n",
    "config_data"
   ]
  },
  {
   "cell_type": "code",
   "execution_count": 17,
   "id": "b258e27f-628e-4127-8169-2e9811551f25",
   "metadata": {},
   "outputs": [
    {
     "name": "stderr",
     "output_type": "stream",
     "text": [
      "FutureWarning: In a future version of pandas all arguments of read_csv except for the argument 'filepath_or_buffer' will be keyword-only.\n"
     ]
    },
    {
     "data": {
      "text/html": [
       "<div>\n",
       "<style scoped>\n",
       "    .dataframe tbody tr th:only-of-type {\n",
       "        vertical-align: middle;\n",
       "    }\n",
       "\n",
       "    .dataframe tbody tr th {\n",
       "        vertical-align: top;\n",
       "    }\n",
       "\n",
       "    .dataframe thead th {\n",
       "        text-align: right;\n",
       "    }\n",
       "</style>\n",
       "<table border=\"1\" class=\"dataframe\">\n",
       "  <thead>\n",
       "    <tr style=\"text-align: right;\">\n",
       "      <th></th>\n",
       "      <th>Brand</th>\n",
       "      <th>Description</th>\n",
       "      <th>Image_URL</th>\n",
       "      <th>Product_ID</th>\n",
       "      <th>Discount_Price (in Rs.)</th>\n",
       "      <th>Original_Price (in Rs.)</th>\n",
       "      <th>Product_URL</th>\n",
       "      <th>Category_by_gender</th>\n",
       "      <th>Category</th>\n",
       "    </tr>\n",
       "  </thead>\n",
       "  <tbody>\n",
       "    <tr>\n",
       "      <th>0</th>\n",
       "      <td>performax</td>\n",
       "      <td>Typographic Print Track Pants with Insert Pockets</td>\n",
       "      <td>https://assets.ajio.com/medias/sys_master/root...</td>\n",
       "      <td>441136763008</td>\n",
       "      <td>974</td>\n",
       "      <td>1,299</td>\n",
       "      <td>https://trends.ajio.com/performax-typographic-...</td>\n",
       "      <td>Men</td>\n",
       "      <td>Activewear</td>\n",
       "    </tr>\n",
       "    <tr>\n",
       "      <th>1</th>\n",
       "      <td>performax</td>\n",
       "      <td>Low-Top Lace-Up Sports Shoes</td>\n",
       "      <td>https://assets.ajio.com/medias/sys_master/root...</td>\n",
       "      <td>450137679013</td>\n",
       "      <td>1,499</td>\n",
       "      <td>1,499</td>\n",
       "      <td>https://trends.ajio.com/performax-low-top-lace...</td>\n",
       "      <td>Men</td>\n",
       "      <td>Activewear</td>\n",
       "    </tr>\n",
       "    <tr>\n",
       "      <th>2</th>\n",
       "      <td>teamspirit</td>\n",
       "      <td>Colorblock Crew-Neck T-shirt</td>\n",
       "      <td>https://assets.ajio.com/medias/sys_master/root...</td>\n",
       "      <td>441133214008</td>\n",
       "      <td>461</td>\n",
       "      <td>549</td>\n",
       "      <td>https://trends.ajio.com/teamspirit-colorblock-...</td>\n",
       "      <td>Men</td>\n",
       "      <td>Activewear</td>\n",
       "    </tr>\n",
       "    <tr>\n",
       "      <th>3</th>\n",
       "      <td>performax</td>\n",
       "      <td>Camouflage Print Joggers with Insert Pockets</td>\n",
       "      <td>https://assets.ajio.com/medias/sys_master/root...</td>\n",
       "      <td>441134776020</td>\n",
       "      <td>1,189</td>\n",
       "      <td>1,699</td>\n",
       "      <td>https://trends.ajio.com/performax-camouflage-p...</td>\n",
       "      <td>Men</td>\n",
       "      <td>Activewear</td>\n",
       "    </tr>\n",
       "    <tr>\n",
       "      <th>4</th>\n",
       "      <td>teamspirit</td>\n",
       "      <td>Reflective Colourblock Crew-Neck T-shirt</td>\n",
       "      <td>https://assets.ajio.com/medias/sys_master/root...</td>\n",
       "      <td>441136539020</td>\n",
       "      <td>425</td>\n",
       "      <td>599</td>\n",
       "      <td>https://trends.ajio.com/teamspirit-reflective-...</td>\n",
       "      <td>Men</td>\n",
       "      <td>Activewear</td>\n",
       "    </tr>\n",
       "  </tbody>\n",
       "</table>\n",
       "</div>"
      ],
      "text/plain": [
       "        Brand                                        Description  \\\n",
       "0   performax  Typographic Print Track Pants with Insert Pockets   \n",
       "1   performax                       Low-Top Lace-Up Sports Shoes   \n",
       "2  teamspirit                       Colorblock Crew-Neck T-shirt   \n",
       "3   performax       Camouflage Print Joggers with Insert Pockets   \n",
       "4  teamspirit           Reflective Colourblock Crew-Neck T-shirt   \n",
       "\n",
       "                                           Image_URL    Product_ID  \\\n",
       "0  https://assets.ajio.com/medias/sys_master/root...  441136763008   \n",
       "1  https://assets.ajio.com/medias/sys_master/root...  450137679013   \n",
       "2  https://assets.ajio.com/medias/sys_master/root...  441133214008   \n",
       "3  https://assets.ajio.com/medias/sys_master/root...  441134776020   \n",
       "4  https://assets.ajio.com/medias/sys_master/root...  441136539020   \n",
       "\n",
       "  Discount_Price (in Rs.) Original_Price (in Rs.)  \\\n",
       "0                     974                   1,299   \n",
       "1                   1,499                   1,499   \n",
       "2                     461                     549   \n",
       "3                   1,189                   1,699   \n",
       "4                     425                     599   \n",
       "\n",
       "                                         Product_URL Category_by_gender  \\\n",
       "0  https://trends.ajio.com/performax-typographic-...                Men   \n",
       "1  https://trends.ajio.com/performax-low-top-lace...                Men   \n",
       "2  https://trends.ajio.com/teamspirit-colorblock-...                Men   \n",
       "3  https://trends.ajio.com/performax-camouflage-p...                Men   \n",
       "4  https://trends.ajio.com/teamspirit-reflective-...                Men   \n",
       "\n",
       "     Category  \n",
       "0  Activewear  \n",
       "1  Activewear  \n",
       "2  Activewear  \n",
       "3  Activewear  \n",
       "4  Activewear  "
      ]
     },
     "execution_count": 17,
     "metadata": {},
     "output_type": "execute_result"
    }
   ],
   "source": [
    "# read the file using config file instead of hardcoding it\n",
    "file_type = config_data['file_type']\n",
    "source_file = \"./\" + config_data['file_name'] + f'.{file_type}'\n",
    "#print(\"\",source_file)\n",
    "df = pd.read_csv(source_file,config_data['inbound_delimiter'])\n",
    "df.head()"
   ]
  },
  {
   "cell_type": "code",
   "execution_count": 18,
   "id": "480f4d43-4bc9-4176-b808-6d85273b8208",
   "metadata": {},
   "outputs": [
    {
     "name": "stdout",
     "output_type": "stream",
     "text": [
      "column name and column length validation passed\n"
     ]
    },
    {
     "name": "stderr",
     "output_type": "stream",
     "text": [
      "FutureWarning: The default value of regex will change from True to False in a future version.\n"
     ]
    },
    {
     "data": {
      "text/plain": [
       "1"
      ]
     },
     "execution_count": 18,
     "metadata": {},
     "output_type": "execute_result"
    }
   ],
   "source": [
    "#validate tif the two files match\n",
    "util.col_header_val(df,config_data)"
   ]
  },
  {
   "cell_type": "code",
   "execution_count": 19,
   "id": "2a8fd457-5556-4c1e-9a9a-8983c7535dfb",
   "metadata": {},
   "outputs": [
    {
     "name": "stdout",
     "output_type": "stream",
     "text": [
      "columns of files are: Index(['brand', 'description', 'imageurl', 'productid', 'discountprice(inrs.)',\n",
      "       'originalprice(inrs.)', 'producturl', 'categorybygender', 'category'],\n",
      "      dtype='object')\n",
      "columns of YAML are: ['brand', 'description', 'imageurl', 'productid', 'discountprice(inrs.)', 'originalprice(inrs.)', 'producturl', 'categorybygender', 'category']\n"
     ]
    }
   ],
   "source": [
    "print(\"columns of files are:\" ,df.columns)\n",
    "print(\"columns of YAML are:\" ,config_data['columns'])"
   ]
  },
  {
   "cell_type": "code",
   "execution_count": 20,
   "id": "452b2875-a3d5-4de6-9874-d7db62cd9136",
   "metadata": {},
   "outputs": [
    {
     "name": "stdout",
     "output_type": "stream",
     "text": [
      "column name and column length validation passed\n",
      "col validation passed\n"
     ]
    },
    {
     "name": "stderr",
     "output_type": "stream",
     "text": [
      "FutureWarning: The default value of regex will change from True to False in a future version.\n"
     ]
    }
   ],
   "source": [
    "if util.col_header_val(df,config_data)==0:\n",
    "    print(\"validation failed\")\n",
    "    # write code to reject the file\n",
    "else:\n",
    "    print(\"col validation passed\")\n",
    "    # write the code to perform further action\n",
    "    # in the pipleine"
   ]
  }
 ],
 "metadata": {
  "kernelspec": {
   "display_name": "Python 3 (ipykernel)",
   "language": "python",
   "name": "python3"
  },
  "language_info": {
   "codemirror_mode": {
    "name": "ipython",
    "version": 3
   },
   "file_extension": ".py",
   "mimetype": "text/x-python",
   "name": "python",
   "nbconvert_exporter": "python",
   "pygments_lexer": "ipython3",
   "version": "3.9.12"
  }
 },
 "nbformat": 4,
 "nbformat_minor": 5
}
